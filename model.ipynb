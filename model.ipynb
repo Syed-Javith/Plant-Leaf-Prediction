{
 "cells": [
  {
   "cell_type": "code",
   "execution_count": 8,
   "id": "487be826-d21f-4be3-bd53-c7a23428b93a",
   "metadata": {},
   "outputs": [],
   "source": [
    "import tensorflow as tf\n",
    "from tensorflow.keras.utils import image_dataset_from_directory"
   ]
  },
  {
   "cell_type": "code",
   "execution_count": 9,
   "id": "147df873-251a-4a66-9189-15759739155d",
   "metadata": {},
   "outputs": [],
   "source": [
    "train_dir = './input/Train/Train'\n",
    "test_dir = './input/Test/Test'\n",
    "val_dir = './input/Validation/Validation'\n",
    "seed = 16"
   ]
  },
  {
   "cell_type": "code",
   "execution_count": 10,
   "id": "b807521b-c454-423a-8bca-5c7bf2e228eb",
   "metadata": {},
   "outputs": [
    {
     "name": "stdout",
     "output_type": "stream",
     "text": [
      "Found 1322 files belonging to 3 classes.\n"
     ]
    }
   ],
   "source": [
    "train = image_dataset_from_directory(\n",
    "    train_dir,  # Directory where the Training images are located\n",
    "    labels = 'inferred', # Classes will be inferred according to the structure of the directory\n",
    "    label_mode = 'categorical',\n",
    "    class_names = ['Healthy', 'Powdery', 'Rust'],\n",
    "    batch_size = 16,    # Number of processed samples before updating the model's weights\n",
    "    image_size = (256, 256), # Defining a fixed dimension for all images\n",
    "    shuffle = True,  # Shuffling data\n",
    "    seed = seed,  # Random seed for shuffling and transformations\n",
    "    validation_split = 0, # We don't need to create a validation set from the training set\n",
    "    crop_to_aspect_ratio = True # Resize images without aspect ratio distortion\n",
    ")"
   ]
  },
  {
   "cell_type": "code",
   "execution_count": 11,
   "id": "201d1cfe-2e33-49c8-b531-35c7587d7873",
   "metadata": {},
   "outputs": [
    {
     "name": "stdout",
     "output_type": "stream",
     "text": [
      "Found 150 files belonging to 3 classes.\n"
     ]
    }
   ],
   "source": [
    "test = image_dataset_from_directory(\n",
    "    test_dir,  \n",
    "    labels = 'inferred', \n",
    "    label_mode = 'categorical',\n",
    "    class_names = ['Healthy', 'Powdery', 'Rust'],\n",
    "    batch_size = 16,    \n",
    "    image_size = (256, 256), \n",
    "    shuffle = True,  \n",
    "    seed = seed,  \n",
    "    validation_split = 0, \n",
    "    crop_to_aspect_ratio = True \n",
    ")"
   ]
  },
  {
   "cell_type": "code",
   "execution_count": 12,
   "id": "b2819175-25a0-40d0-886e-8156850965f2",
   "metadata": {},
   "outputs": [
    {
     "name": "stdout",
     "output_type": "stream",
     "text": [
      "Found 60 files belonging to 3 classes.\n"
     ]
    }
   ],
   "source": [
    "validation = image_dataset_from_directory(\n",
    "    val_dir,  \n",
    "    labels = 'inferred', \n",
    "    label_mode = 'categorical',\n",
    "    class_names = ['Healthy', 'Powdery', 'Rust'],\n",
    "    batch_size = 16,    \n",
    "    image_size = (256, 256),\n",
    "    shuffle = True,  \n",
    "    seed = seed,  \n",
    "    validation_split = 0, \n",
    "    crop_to_aspect_ratio = True \n",
    ")"
   ]
  },
  {
   "cell_type": "code",
   "execution_count": 17,
   "id": "84bdbc50-0988-43e4-8356-70e140b61d9d",
   "metadata": {},
   "outputs": [
    {
     "data": {
      "text/plain": [
       "<_PrefetchDataset element_spec=(TensorSpec(shape=(None, 256, 256, 3), dtype=tf.float32, name=None), TensorSpec(shape=(None, 3), dtype=tf.float32, name=None))>"
      ]
     },
     "execution_count": 17,
     "metadata": {},
     "output_type": "execute_result"
    }
   ],
   "source": [
    "train"
   ]
  },
  {
   "cell_type": "code",
   "execution_count": 18,
   "id": "be6ef908-da25-4b73-96ff-71508ea8845e",
   "metadata": {},
   "outputs": [
    {
     "data": {
      "text/plain": [
       "<_PrefetchDataset element_spec=(TensorSpec(shape=(None, 256, 256, 3), dtype=tf.float32, name=None), TensorSpec(shape=(None, 3), dtype=tf.float32, name=None))>"
      ]
     },
     "execution_count": 18,
     "metadata": {},
     "output_type": "execute_result"
    }
   ],
   "source": [
    "test"
   ]
  },
  {
   "cell_type": "code",
   "execution_count": 19,
   "id": "5c3ce635-da33-4893-a44f-839b2d621e7f",
   "metadata": {},
   "outputs": [
    {
     "data": {
      "text/plain": [
       "<_PrefetchDataset element_spec=(TensorSpec(shape=(None, 256, 256, 3), dtype=tf.float32, name=None), TensorSpec(shape=(None, 3), dtype=tf.float32, name=None))>"
      ]
     },
     "execution_count": 19,
     "metadata": {},
     "output_type": "execute_result"
    }
   ],
   "source": [
    "validation"
   ]
  },
  {
   "cell_type": "code",
   "execution_count": 21,
   "id": "51ba4570-4928-4657-9fc1-ca77aaacb3a1",
   "metadata": {},
   "outputs": [
    {
     "name": "stdout",
     "output_type": "stream",
     "text": [
      "WARNING:tensorflow:From C:\\Users\\SYED JAVITH\\AppData\\Local\\Programs\\Python\\Python311\\Lib\\site-packages\\keras\\src\\backend.py:873: The name tf.get_default_graph is deprecated. Please use tf.compat.v1.get_default_graph instead.\n",
      "\n"
     ]
    }
   ],
   "source": [
    "from tensorflow.keras.layers import Rescaling\n",
    "scaler = Rescaling(1./255) # Defining scaler values between 0 to 1\n",
    "# Rescaling datasets\n",
    "train = train.map(lambda x, y: (scaler(x), y)) \n",
    "test = test.map(lambda x, y: (scaler(x), y))\n",
    "validation = validation.map(lambda x, y: (scaler(x), y))"
   ]
  },
  {
   "cell_type": "code",
   "execution_count": 22,
   "id": "2ecfef4f-e8bf-45da-8565-e9c9fffb7c02",
   "metadata": {},
   "outputs": [],
   "source": [
    "augmentation = tf.keras.Sequential(\n",
    "    [\n",
    "        tf.keras.layers.RandomRotation(factor = (-.25, .3),fill_mode = 'reflect',interpolation = 'bilinear',seed = seed),\n",
    "        tf.keras.layers.RandomBrightness(factor = (-.45, .45),value_range = (0.0, 1.0),seed = seed),\n",
    "        tf.keras.layers.RandomContrast(factor = (.5),seed = seed)\n",
    "    ]\n",
    ")"
   ]
  },
  {
   "cell_type": "code",
   "execution_count": 24,
   "id": "4f1ee7bb-5bac-4e19-b970-fd3c5582521f",
   "metadata": {},
   "outputs": [
    {
     "name": "stdout",
     "output_type": "stream",
     "text": [
      "WARNING:tensorflow:From C:\\Users\\SYED JAVITH\\AppData\\Local\\Programs\\Python\\Python311\\Lib\\site-packages\\keras\\src\\layers\\pooling\\max_pooling2d.py:161: The name tf.nn.max_pool is deprecated. Please use tf.nn.max_pool2d instead.\n",
      "\n"
     ]
    }
   ],
   "source": [
    "from tensorflow.keras.models import Sequential\n",
    "from tensorflow.keras.layers import Conv2D, MaxPooling2D, Dense, Flatten, Activation, Dropout, BatchNormalization\n",
    "from tensorflow.keras.layers.experimental.preprocessing import RandomFlip, RandomRotation, RandomZoom\n",
    "model = Sequential()\n",
    "\n",
    "model.add(augmentation) # Adding data augmentation pipeline to the model\n",
    "\n",
    "# Feature Learning Layers\n",
    "model.add(Conv2D(32,                  # Number of filters/Kernels\n",
    "                 (3,3),               # Size of kernels (3x3 matrix)\n",
    "                 strides=1,           # Step size for sliding the kernel across the input (1 pixel at a time).\n",
    "                 padding='same',      # 'Same' ensures that the output feature map has the same dimensions as the input by padding zeros around the input. \n",
    "                 input_shape=(256, 256, 3) # Input image shape\n",
    "                ))\n",
    "model.add(Activation('relu'))# Activation function\n",
    "model.add(BatchNormalization())\n",
    "model.add(MaxPooling2D(pool_size=(2, 2), padding='same'))\n",
    "model.add(Dropout(0.2))\n",
    "\n",
    "model.add(Conv2D(64, (5,5), padding='same'))\n",
    "model.add(Activation('relu'))\n",
    "model.add(BatchNormalization())\n",
    "model.add(MaxPooling2D(pool_size=(2, 2), padding='same'))\n",
    "model.add(Dropout(0.2))\n",
    "\n",
    "model.add(Conv2D(128, (3,3), padding='same'))\n",
    "model.add(Activation('relu'))\n",
    "model.add(BatchNormalization())\n",
    "model.add(MaxPooling2D(pool_size=(2, 2), padding='same'))\n",
    "model.add(Dropout(0.3))\n",
    "\n",
    "model.add(Conv2D(256, (5,5), padding='same'))\n",
    "model.add(Activation('relu'))\n",
    "model.add(BatchNormalization())\n",
    "model.add(MaxPooling2D(pool_size=(2, 2), padding='same'))\n",
    "model.add(Dropout(0.3))\n",
    "\n",
    "model.add(Conv2D(512, (3,3), padding='same'))\n",
    "model.add(Activation('relu'))\n",
    "model.add(BatchNormalization())\n",
    "model.add(MaxPooling2D(pool_size=(2, 2), padding='same'))\n",
    "model.add(Dropout(0.3))\n",
    "\n",
    "# Flattening tensors\n",
    "model.add(Flatten())\n",
    "\n",
    "# Fully-Connected Layers\n",
    "model.add(Dense(2048))\n",
    "model.add(Activation('relu'))\n",
    "model.add(Dropout(0.5))\n",
    "\n",
    "# Output Layer\n",
    "model.add(Dense(3, activation='softmax')) # Classification layer"
   ]
  },
  {
   "cell_type": "code",
   "execution_count": 25,
   "id": "07ef19f1-77af-41b8-9f66-74f8c0a7f53b",
   "metadata": {},
   "outputs": [],
   "source": [
    "model.compile(optimizer = tf.keras.optimizers.RMSprop(0.0001), # 1e-4\n",
    "              loss = 'categorical_crossentropy', # Ideal for multiclass tasks\n",
    "              metrics = ['accuracy']) # Evaluation metric"
   ]
  },
  {
   "cell_type": "code",
   "execution_count": 28,
   "id": "ed75a8b1-c2e0-4440-a55c-c11373b694c8",
   "metadata": {},
   "outputs": [],
   "source": [
    "from tensorflow.keras.callbacks import EarlyStopping , ModelCheckpoint\n",
    "early_stopping = EarlyStopping(monitor = 'val_accuracy',\n",
    "                              patience = 5, mode = 'max',\n",
    "                              restore_best_weights = True)\n",
    "\n",
    "checkpoint = ModelCheckpoint('best_model.h5',\n",
    "                            monitor = 'val_accuracy',\n",
    "                            save_best_only = True)"
   ]
  },
  {
   "cell_type": "code",
   "execution_count": 30,
   "id": "be92c0d1-d167-4d17-a077-ccc734d0d117",
   "metadata": {},
   "outputs": [
    {
     "name": "stdout",
     "output_type": "stream",
     "text": [
      "Epoch 1/50\n",
      "WARNING:tensorflow:From C:\\Users\\SYED JAVITH\\AppData\\Local\\Programs\\Python\\Python311\\Lib\\site-packages\\keras\\src\\utils\\tf_utils.py:492: The name tf.ragged.RaggedTensorValue is deprecated. Please use tf.compat.v1.ragged.RaggedTensorValue instead.\n",
      "\n",
      "WARNING:tensorflow:From C:\\Users\\SYED JAVITH\\AppData\\Local\\Programs\\Python\\Python311\\Lib\\site-packages\\keras\\src\\engine\\base_layer_utils.py:384: The name tf.executing_eagerly_outside_functions is deprecated. Please use tf.compat.v1.executing_eagerly_outside_functions instead.\n",
      "\n",
      "83/83 [==============================] - ETA: 0s - loss: 5.8760 - accuracy: 0.5552"
     ]
    },
    {
     "name": "stderr",
     "output_type": "stream",
     "text": [
      "C:\\Users\\SYED JAVITH\\AppData\\Local\\Programs\\Python\\Python311\\Lib\\site-packages\\keras\\src\\engine\\training.py:3103: UserWarning: You are saving your model as an HDF5 file via `model.save()`. This file format is considered legacy. We recommend using instead the native Keras format, e.g. `model.save('my_model.keras')`.\n",
      "  saving_api.save_model(\n"
     ]
    },
    {
     "name": "stdout",
     "output_type": "stream",
     "text": [
      "83/83 [==============================] - 160s 2s/step - loss: 5.8760 - accuracy: 0.5552 - val_loss: 3.4510 - val_accuracy: 0.3333\n",
      "Epoch 2/50\n",
      "83/83 [==============================] - 154s 2s/step - loss: 2.5909 - accuracy: 0.6271 - val_loss: 11.8892 - val_accuracy: 0.3333\n",
      "Epoch 3/50\n",
      "83/83 [==============================] - 152s 2s/step - loss: 1.6893 - accuracy: 0.7065 - val_loss: 16.5523 - val_accuracy: 0.3333\n",
      "Epoch 4/50\n",
      "83/83 [==============================] - 156s 2s/step - loss: 1.0776 - accuracy: 0.7769 - val_loss: 21.0733 - val_accuracy: 0.3333\n",
      "Epoch 5/50\n",
      "83/83 [==============================] - 153s 2s/step - loss: 0.8343 - accuracy: 0.7995 - val_loss: 8.8169 - val_accuracy: 0.3333\n",
      "Epoch 6/50\n",
      "83/83 [==============================] - 158s 2s/step - loss: 0.7765 - accuracy: 0.8207 - val_loss: 5.0119 - val_accuracy: 0.3833\n",
      "Epoch 7/50\n",
      "83/83 [==============================] - 167s 2s/step - loss: 0.5731 - accuracy: 0.8533 - val_loss: 2.5270 - val_accuracy: 0.6000\n",
      "Epoch 8/50\n",
      "83/83 [==============================] - 159s 2s/step - loss: 0.5284 - accuracy: 0.8691 - val_loss: 1.6814 - val_accuracy: 0.6833\n",
      "Epoch 9/50\n",
      "83/83 [==============================] - 161s 2s/step - loss: 0.5138 - accuracy: 0.8752 - val_loss: 0.1522 - val_accuracy: 0.9000\n",
      "Epoch 10/50\n",
      "83/83 [==============================] - 168s 2s/step - loss: 0.4912 - accuracy: 0.8926 - val_loss: 0.5533 - val_accuracy: 0.8667\n",
      "Epoch 11/50\n",
      "83/83 [==============================] - 162s 2s/step - loss: 0.4349 - accuracy: 0.9017 - val_loss: 1.0781 - val_accuracy: 0.8333\n",
      "Epoch 12/50\n",
      "83/83 [==============================] - 157s 2s/step - loss: 0.4176 - accuracy: 0.9032 - val_loss: 0.6466 - val_accuracy: 0.9167\n",
      "Epoch 13/50\n",
      "83/83 [==============================] - 153s 2s/step - loss: 0.3544 - accuracy: 0.9062 - val_loss: 1.5179 - val_accuracy: 0.8667\n",
      "Epoch 14/50\n",
      "83/83 [==============================] - 149s 2s/step - loss: 0.3294 - accuracy: 0.9183 - val_loss: 1.1670 - val_accuracy: 0.8500\n",
      "Epoch 15/50\n",
      "83/83 [==============================] - 150s 2s/step - loss: 0.4297 - accuracy: 0.9047 - val_loss: 0.5282 - val_accuracy: 0.9500\n",
      "Epoch 16/50\n",
      "83/83 [==============================] - 146s 2s/step - loss: 0.3514 - accuracy: 0.9054 - val_loss: 0.5222 - val_accuracy: 0.9333\n",
      "Epoch 17/50\n",
      "83/83 [==============================] - 157s 2s/step - loss: 0.3484 - accuracy: 0.9183 - val_loss: 0.9876 - val_accuracy: 0.8833\n",
      "Epoch 18/50\n",
      "83/83 [==============================] - 172s 2s/step - loss: 0.3523 - accuracy: 0.9259 - val_loss: 0.5672 - val_accuracy: 0.8833\n",
      "Epoch 19/50\n",
      "83/83 [==============================] - 157s 2s/step - loss: 0.3030 - accuracy: 0.9289 - val_loss: 0.8133 - val_accuracy: 0.9167\n",
      "Epoch 20/50\n",
      "83/83 [==============================] - 149s 2s/step - loss: 0.3537 - accuracy: 0.9228 - val_loss: 0.6269 - val_accuracy: 0.9000\n"
     ]
    },
    {
     "data": {
      "text/plain": [
       "<keras.src.callbacks.History at 0x1f697ddf150>"
      ]
     },
     "execution_count": 30,
     "metadata": {},
     "output_type": "execute_result"
    }
   ],
   "source": [
    "model.fit(\n",
    "    train,  # your training dataset\n",
    "    epochs=50, \n",
    "    batch_size=83, \n",
    "    validation_data=validation,  # your validation dataset\n",
    "    shuffle=True,\n",
    "    callbacks=[early_stopping,checkpoint]\n",
    ")"
   ]
  },
  {
   "cell_type": "code",
   "execution_count": 21,
   "id": "d2a04d60-3463-44d8-bd41-a7e367d7f177",
   "metadata": {},
   "outputs": [
    {
     "name": "stderr",
     "output_type": "stream",
     "text": [
      "Clipping input data to the valid range for imshow with RGB data ([0..1] for floats or [0..255] for integers).\n"
     ]
    },
    {
     "data": {
      "image/png": "[encoded data removed]",
      "text/plain": [
       "<Figure size 640x480 with 1 Axes>"
      ]
     },
     "metadata": {},
     "output_type": "display_data"
    }
   ],
   "source": [
    "import matplotlib.pyplot as plt\n",
    "image_batch, label_batch = next(iter(test))\n",
    "\n",
    "# Assuming you want to visualize the first image in the batch\n",
    "plt.imshow(image_batch[0].numpy())  # Convert the tensor to a numpy array and plot\n",
    "plt.axis('off')  # Turn off axis\n",
    "plt.show()"
   ]
  },
  {
   "cell_type": "code",
   "execution_count": 22,
   "id": "8295b1f7-46d0-4fea-8d43-ce29f21c04d3",
   "metadata": {},
   "outputs": [],
   "source": [
    "from tensorflow.keras.models import load_model\n",
    "model = load_model('best_model.h5')"
   ]
  },
  {
   "cell_type": "code",
   "execution_count": 25,
   "id": "8d804910-c8f8-4c6d-b037-fc669a31e8ec",
   "metadata": {},
   "outputs": [
    {
     "name": "stdout",
     "output_type": "stream",
     "text": [
      "1/1 [==============================] - 1s 573ms/step\n",
      "Predicted class: class3\n"
     ]
    }
   ],
   "source": [
    "from PIL import Image\n",
    "import numpy as np\n",
    "import tensorflow as tf\n",
    "\n",
    "# Load the image\n",
    "image_path = './input/Test/Test/Rust/82add70df6ab2854.jpg'\n",
    "image = Image.open(image_path)\n",
    "\n",
    "# Resize the image to match the input shape expected by your model\n",
    "image = image.resize((256, 256))  # Assuming your model expects (256, 256) input shape\n",
    "\n",
    "# Convert the image to a numpy array\n",
    "image_array = np.array(image) / 255.0  # Normalize pixel values to [0, 1]\n",
    "\n",
    "# Add batch dimension to the image\n",
    "image_array = np.expand_dims(image_array, axis=0)\n",
    "\n",
    "# Make a prediction\n",
    "predictions = model.predict(image_array)\n",
    "\n",
    "# Interpret the prediction results\n",
    "predicted_class = np.argmax(predictions[0])  # Assuming single prediction, extract the class with highest probability\n",
    "class_names = ['Normal', 'Powder', 'Rust']  # Replace with your actual class names\n",
    "predicted_class_name = class_names[predicted_class]\n",
    "\n",
    "print(\"Predicted class:\", predicted_class_name)\n"
   ]
  }
 ],
 "metadata": {
  "kernelspec": {
   "display_name": "Python 3 (ipykernel)",
   "language": "python",
   "name": "python3"
  },
  "language_info": {
   "codemirror_mode": {
    "name": "ipython",
    "version": 3
   },
   "file_extension": ".py",
   "mimetype": "text/x-python",
   "name": "python",
   "nbconvert_exporter": "python",
   "pygments_lexer": "ipython3",
   "version": "3.11.2"
  }
 },
 "nbformat": 4,
 "nbformat_minor": 5
}
